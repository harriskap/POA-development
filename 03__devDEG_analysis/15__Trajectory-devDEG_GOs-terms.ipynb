{
 "cells": [
  {
   "cell_type": "code",
   "execution_count": 1,
   "metadata": {
    "ExecuteTime": {
     "end_time": "2022-08-15T06:11:07.002271Z",
     "start_time": "2022-08-15T06:11:02.937102Z"
    }
   },
   "outputs": [
    {
     "name": "stderr",
     "output_type": "stream",
     "text": [
      "/home/serhiy/Desktop/code/2_single_cell/dulac_kaplan2023_dev_regulation_snRNAseq_scATACseq_mouse_hbc04623/data/hotspot_env/lib/python3.10/site-packages/tqdm/auto.py:22: TqdmWarning: IProgress not found. Please update jupyter and ipywidgets. See https://ipywidgets.readthedocs.io/en/stable/user_install.html\n",
      "  from .autonotebook import tqdm as notebook_tqdm\n"
     ]
    },
    {
     "name": "stdout",
     "output_type": "stream",
     "text": [
      "scanpy==1.9.2 anndata==0.8.0 umap==0.5.3 numpy==1.22.3 scipy==1.8.1 pandas==1.5.3 scikit-learn==1.2.1 statsmodels==0.13.5 pynndescent==0.5.8\n"
     ]
    }
   ],
   "source": [
    "import scanpy as sc\n",
    "import numpy as np\n",
    "import pandas as pd\n",
    "import matplotlib.pyplot as plt\n",
    "%matplotlib inline\n",
    "import matplotlib\n",
    "import math\n",
    "import seaborn as sns\n",
    "import os\n",
    "\n",
    "# %config IPCompleter.greedy=True\n",
    "%load_ext autoreload\n",
    "%autoreload 2\n",
    "\n",
    "sc.settings.verbosity = 0\n",
    "sc.logging.print_header()\n",
    "sns.set_context(\"paper\")"
   ]
  },
  {
   "cell_type": "code",
   "execution_count": 2,
   "metadata": {
    "ExecuteTime": {
     "end_time": "2022-08-15T06:11:07.039105Z",
     "start_time": "2022-08-15T06:11:07.004595Z"
    }
   },
   "outputs": [],
   "source": [
    "# import local module containing misc code, helps keep notebooks clean from commonly used functions\n",
    "import sys\n",
    "# sys.path.insert(0, '/scratchfs/cherring/brain_maturation/analysis/submittal_final/')\n",
    "import new_misc_code as nmc "
   ]
  },
  {
   "cell_type": "markdown",
   "metadata": {},
   "source": [
    "## **Pull all significant devDEGs from logTMMs data pickel**"
   ]
  },
  {
   "cell_type": "code",
   "execution_count": 3,
   "metadata": {
    "ExecuteTime": {
     "end_time": "2022-08-15T06:11:07.105818Z",
     "start_time": "2022-08-15T06:11:07.042937Z"
    }
   },
   "outputs": [],
   "source": [
    "# load log2 TMM pseudo-bulked data from limma-voom\n",
    "# logTMMs.pkl was saved in 11__dev-DEGs_age-trend-fits_rate-of-change.ipynb\n",
    "# logTMMs = nmc.load_obj(\"data/dev_deg_v6/logTMMs.pkl\")\n",
    "# logTMMs = nmc.load_obj(\"data/dev_deg_v4/logTMMs.pkl\")\n",
    "# all genes\n",
    "# logTMMs = nmc.load_obj(\"data/dev_deg_v8/logTMMs.filtered100.pkl\")\n",
    "# intersection with mutant\n",
    "logTMMs = nmc.load_obj(\"data/dev_deg_v9/logTMMs.overlap.pkl\")"
   ]
  },
  {
   "cell_type": "code",
   "execution_count": 4,
   "metadata": {
    "ExecuteTime": {
     "end_time": "2022-08-15T06:11:07.142471Z",
     "start_time": "2022-08-15T06:11:07.107320Z"
    }
   },
   "outputs": [
    {
     "data": {
      "text/plain": [
       "dict_keys(['e-A1', 'e-A5', 'e-C3', 'e-C4', 'e-C5', 'e-C6', 'e-H2', 'e-H6', 'e-H8', 'e-L3', 'e-L4', 'e-L5', 'e-M1', 'e-M3', 'e-M4', 'e-M5', 'e-M6', 'e-M7', 'e-M8', 'e-M9', 'e-N1', 'e-N11', 'e-N5', 'e-N9', 'e-P4', 'e-X1', 'i-B1', 'i-B10', 'i-B11', 'i-B13', 'i-B2', 'i-B3', 'i-B4', 'i-B5', 'i-B6', 'i-B7', 'i-B8', 'i-B9', 'i-C1', 'i-H1', 'i-H10', 'i-H11', 'i-H2', 'i-H4', 'i-H5', 'i-H6', 'i-H7', 'i-L1', 'i-L2', 'i-L3', 'i-L5', 'i-L6', 'i-L7', 'i-M1', 'i-M11', 'i-M2', 'i-M5', 'i-M6', 'i-M7', 'i-M8', 'i-M9', 'i-P1', 'i-P2', 'i-S1', 'i-S6', 'i-S7', 'i-S8', 'i-V1', 'i-V3', 'i-V6', 'i-X1', 'i-X10', 'i-X12', 'i-X13', 'i-X14', 'i-X2', 'i-X3', 'i-X4', 'i-X5', 'i-X6', 'i-X7', 'i-X8', 'i-X9'])"
      ]
     },
     "execution_count": 4,
     "metadata": {},
     "output_type": "execute_result"
    }
   ],
   "source": [
    "# index genes in logTMMs dataframes are devDEGs\n",
    "sig_genes = {}\n",
    "for traj_itr, df_itr in logTMMs.items():\n",
    "    sig_genes[traj_itr] = df_itr.index.values\n",
    "sig_genes.keys()"
   ]
  },
  {
   "cell_type": "code",
   "execution_count": 5,
   "metadata": {
    "ExecuteTime": {
     "end_time": "2022-08-15T06:11:07.177880Z",
     "start_time": "2022-08-15T06:11:07.143935Z"
    }
   },
   "outputs": [
    {
     "name": "stdout",
     "output_type": "stream",
     "text": [
      "e-A1 (4015,)\n",
      "e-A5 (1590,)\n",
      "e-C3 (3577,)\n",
      "e-C4 (7657,)\n",
      "e-C5 (2458,)\n",
      "e-C6 (2005,)\n",
      "e-H2 (2352,)\n",
      "e-H6 (1718,)\n",
      "e-H8 (1230,)\n",
      "e-L3 (2261,)\n",
      "e-L4 (1785,)\n",
      "e-L5 (727,)\n",
      "e-M1 (234,)\n",
      "e-M3 (840,)\n",
      "e-M4 (1016,)\n",
      "e-M5 (1424,)\n",
      "e-M6 (3602,)\n",
      "e-M7 (631,)\n",
      "e-M8 (1111,)\n",
      "e-M9 (2725,)\n",
      "e-N1 (2162,)\n",
      "e-N11 (496,)\n",
      "e-N5 (1344,)\n",
      "e-N9 (1626,)\n",
      "e-P4 (1854,)\n",
      "e-X1 (2828,)\n",
      "i-B1 (5253,)\n",
      "i-B10 (1214,)\n",
      "i-B11 (4280,)\n",
      "i-B13 (1928,)\n",
      "i-B2 (3881,)\n",
      "i-B3 (4072,)\n",
      "i-B4 (2731,)\n",
      "i-B5 (3240,)\n",
      "i-B6 (4776,)\n",
      "i-B7 (1110,)\n",
      "i-B8 (3126,)\n",
      "i-B9 (941,)\n",
      "i-C1 (4149,)\n",
      "i-H1 (4218,)\n",
      "i-H10 (2115,)\n",
      "i-H11 (2881,)\n",
      "i-H2 (582,)\n",
      "i-H4 (3182,)\n",
      "i-H5 (3414,)\n",
      "i-H6 (5104,)\n",
      "i-H7 (3809,)\n",
      "i-L1 (3136,)\n",
      "i-L2 (3271,)\n",
      "i-L3 (3035,)\n",
      "i-L5 (1516,)\n",
      "i-L6 (3056,)\n",
      "i-L7 (3418,)\n",
      "i-M1 (3233,)\n",
      "i-M11 (4356,)\n",
      "i-M2 (4307,)\n",
      "i-M5 (4644,)\n",
      "i-M6 (4271,)\n",
      "i-M7 (3077,)\n",
      "i-M8 (446,)\n",
      "i-M9 (432,)\n",
      "i-P1 (8320,)\n",
      "i-P2 (3917,)\n",
      "i-S1 (982,)\n",
      "i-S6 (1015,)\n",
      "i-S7 (1476,)\n",
      "i-S8 (1598,)\n",
      "i-V1 (3086,)\n",
      "i-V3 (8734,)\n",
      "i-V6 (1136,)\n",
      "i-X1 (4618,)\n",
      "i-X10 (2757,)\n",
      "i-X12 (883,)\n",
      "i-X13 (2635,)\n",
      "i-X14 (3441,)\n",
      "i-X2 (3886,)\n",
      "i-X3 (3100,)\n",
      "i-X4 (2773,)\n",
      "i-X5 (4465,)\n",
      "i-X6 (4652,)\n",
      "i-X7 (1582,)\n",
      "i-X8 (3456,)\n",
      "i-X9 (3254,)\n"
     ]
    }
   ],
   "source": [
    "for iii, jjj in sig_genes.items():\n",
    "    print( iii, jjj.shape)"
   ]
  },
  {
   "cell_type": "markdown",
   "metadata": {},
   "source": [
    "## **Query GO terms for each set of devDEGs**"
   ]
  },
  {
   "cell_type": "code",
   "execution_count": 6,
   "metadata": {
    "ExecuteTime": {
     "end_time": "2022-08-15T06:11:14.673660Z",
     "start_time": "2022-08-15T06:11:07.179143Z"
    }
   },
   "outputs": [],
   "source": [
    "# read in adata, to use observational data for each batch\n",
    "# adata_fl_nm = \"data/2023-05-16_input/seurat.excitatory_select.h5ad\"\n",
    "#adata_fl_nm = \"data/2023-05-16_input/seurat.inhibitory_select.h5ad\"\n",
    "adata_fl_nm = \"data/2023-05-16_input/seurat.merged.h5ad\"\n",
    "adata = sc.read(adata_fl_nm)"
   ]
  },
  {
   "cell_type": "code",
   "execution_count": null,
   "metadata": {},
   "outputs": [],
   "source": [
    "# https://docs.scvi-tools.org/en/0.6.8/tutorials/scanpy.html\n",
    "# for the merged dataset we need to calculate highly variable genes for background in GO calculations\n",
    "# need to run with 200G\n",
    "# sc.pp.filter_genes( adata, min_counts=5, inplace=True)\n",
    "# adata_original = adata.copy()\n",
    "# sc.pp.normalize_per_cell(adata, counts_per_cell_after=1e4)\n",
    "# sc.pp.log1p(adata)\n",
    "# sc.pp.highly_variable_genes(adata, n_top_genes = 2000)    \n",
    "# highly_variable_genes = adata.var[\"highly_variable\"]\n",
    "# adata = adata[:, highly_variable_genes]\n",
    "# adata.raw = adata"
   ]
  },
  {
   "cell_type": "markdown",
   "metadata": {},
   "source": [
    "### Get background genes (genes with >5 counts) for GO term query"
   ]
  },
  {
   "cell_type": "code",
   "execution_count": 7,
   "metadata": {
    "ExecuteTime": {
     "end_time": "2022-08-15T06:11:15.134560Z",
     "start_time": "2022-08-15T06:11:14.676728Z"
    }
   },
   "outputs": [
    {
     "name": "stdout",
     "output_type": "stream",
     "text": [
      "False\n"
     ]
    }
   ],
   "source": [
    "# we may have an issue here\n",
    "# make sure all genes have at least 5 counts, should have been already done\n",
    "# print(sum(adata.raw.X.sum(0).A1>5)==adata.shape[1])\n",
    "#back_ground = adata.var_names.values.astype(str).tolist()"
   ]
  },
  {
   "cell_type": "markdown",
   "metadata": {},
   "source": [
    "### Scanpy .var_names_make_unique() formats gene duplicate names in way that is not recognized by GProfiler "
   ]
  },
  {
   "cell_type": "code",
   "execution_count": 22,
   "metadata": {
    "ExecuteTime": {
     "end_time": "2022-08-15T06:11:17.371819Z",
     "start_time": "2022-08-15T06:11:15.136590Z"
    }
   },
   "outputs": [
    {
     "data": {
      "text/plain": [
       "2000"
      ]
     },
     "execution_count": 22,
     "metadata": {},
     "output_type": "execute_result"
    }
   ],
   "source": [
    "# check how many gene names are changed by scanpy var_names_make_unique()\n",
    "# any of the filtered_feature_bc_matrix.h5 from our study can be used here\n",
    "# this can also be skipped without much change to the GO analysis\n",
    "# gene_file = \"/dd_userdata/usrdat03/userdata/cherring/data/cellranger_outputs/brain_maturation_RNA/RL1777_2d_v3/outs/filtered_feature_bc_matrix.h5\"\n",
    "# test_adata = sc.read_10x_h5( gene_file)\n",
    "# raw_names = test_adata.var_names.values\n",
    "# test_adata.var_names_make_unique()\n",
    "# unq_names = test_adata.var_names.values.tolist()\n",
    "# current_names = adata.var_names.values.astype(str).tolist()\n",
    "# len(current_names)"
   ]
  },
  {
   "cell_type": "code",
   "execution_count": 9,
   "metadata": {
    "ExecuteTime": {
     "end_time": "2022-08-15T06:11:17.415256Z",
     "start_time": "2022-08-15T06:11:17.373647Z"
    }
   },
   "outputs": [],
   "source": [
    "#test_adata.var_names_make_unique()\n",
    "#unq_names = test_adata.var_names.values.tolist()"
   ]
  },
  {
   "cell_type": "code",
   "execution_count": 13,
   "metadata": {
    "ExecuteTime": {
     "end_time": "2022-08-15T06:11:17.450394Z",
     "start_time": "2022-08-15T06:11:17.416869Z"
    }
   },
   "outputs": [],
   "source": [
    "# function to change scanpy corrected gene names back to generic name, this does not change the result very much\n",
    "#def get_preunique_names( current_names, raw_names=raw_names, unq_names=unq_names):\n",
    "#    raw_current_names = np.zeros_like( current_names)\n",
    "#    for itr, gene_itr in enumerate( current_names):\n",
    "#        if gene_itr not in raw_names:\n",
    "#            raw_current_names[itr] = raw_names[unq_names.index(gene_itr)]\n",
    "#        else:\n",
    "#            raw_current_names[itr] = gene_itr\n",
    "#    print( f\"{len( current_names) - sum( nmc.member_test( raw_current_names, current_names))} gene name changes\")\n",
    "#    return( raw_current_names)"
   ]
  },
  {
   "cell_type": "code",
   "execution_count": 6,
   "metadata": {
    "ExecuteTime": {
     "end_time": "2022-08-15T06:11:29.790284Z",
     "start_time": "2022-08-15T06:11:17.451875Z"
    }
   },
   "outputs": [
    {
     "data": {
      "text/plain": [
       "2000"
      ]
     },
     "execution_count": 6,
     "metadata": {},
     "output_type": "execute_result"
    }
   ],
   "source": [
    "#back_ground_raw = get_preunique_names( current_names)\n",
    "# back_ground_raw = current_names\n",
    "back_ground_raw = nmc.load_obj(\"data/dev_deg_v7/background.pkl\")\n",
    "len(back_ground_raw)"
   ]
  },
  {
   "cell_type": "code",
   "execution_count": 7,
   "metadata": {
    "ExecuteTime": {
     "end_time": "2022-08-15T06:11:29.986627Z",
     "start_time": "2022-08-15T06:11:29.792325Z"
    }
   },
   "outputs": [],
   "source": [
    "from gprofiler import GProfiler\n",
    "def query_genes( genes, bk_grd, p_thresh=0.05):\n",
    "    # Gprofiler does not like Y_RNA, times out\n",
    "    if 'Y_RNA' in genes:\n",
    "        genes.remove('Y_RNA')\n",
    "    # base url sets version used in our study\n",
    "    gp = GProfiler( return_dataframe=True, base_url=\"https://biit.cs.ut.ee/gprofiler_archive3/e102_eg49_p15/\")\n",
    "    query_df = gp.profile( organism='hsapiens', query=genes, user_threshold=p_thresh, background=bk_grd)\n",
    "    ####################################################\n",
    "    query_df = query_df[np.in1d( query_df['source'].values, ['GO:MF','GO:BP'])]\n",
    "    ####################################################\n",
    "    # if you'd like less general GOs\n",
    "#     parent_mk = np.array( [len( ii)>=0 for ii in query_df['parents'].values])\n",
    "    return( query_df) #.loc[parent_mk])"
   ]
  },
  {
   "cell_type": "code",
   "execution_count": 8,
   "metadata": {
    "ExecuteTime": {
     "end_time": "2022-08-15T06:11:30.030623Z",
     "start_time": "2022-08-15T06:11:29.988423Z"
    }
   },
   "outputs": [
    {
     "data": {
      "text/plain": [
       "dict_keys(['e-A1', 'e-A5', 'e-C3', 'e-C4', 'e-C5', 'e-C6', 'e-H2', 'e-H6', 'e-H8', 'e-L3', 'e-L4', 'e-L5', 'e-M1', 'e-M3', 'e-M4', 'e-M5', 'e-M6', 'e-M7', 'e-M8', 'e-M9', 'e-N1', 'e-N11', 'e-N5', 'e-N9', 'e-P4', 'e-X1', 'i-B1', 'i-B10', 'i-B11', 'i-B13', 'i-B2', 'i-B3', 'i-B4', 'i-B5', 'i-B6', 'i-B7', 'i-B8', 'i-B9', 'i-C1', 'i-H1', 'i-H10', 'i-H11', 'i-H2', 'i-H4', 'i-H5', 'i-H6', 'i-H7', 'i-L1', 'i-L2', 'i-L3', 'i-L5', 'i-L6', 'i-L7', 'i-M1', 'i-M11', 'i-M2', 'i-M5', 'i-M6', 'i-M7', 'i-M8', 'i-M9', 'i-P1', 'i-P2', 'i-S1', 'i-S6', 'i-S7', 'i-S8', 'i-V1', 'i-V3', 'i-V6', 'i-X1', 'i-X10', 'i-X12', 'i-X13', 'i-X14', 'i-X2', 'i-X3', 'i-X4', 'i-X5', 'i-X6', 'i-X7', 'i-X8', 'i-X9'])"
      ]
     },
     "execution_count": 8,
     "metadata": {},
     "output_type": "execute_result"
    }
   ],
   "source": [
    "sig_genes.keys()"
   ]
  },
  {
   "cell_type": "code",
   "execution_count": 9,
   "metadata": {
    "ExecuteTime": {
     "end_time": "2022-08-15T06:22:08.341632Z",
     "start_time": "2022-08-15T06:11:30.032169Z"
    }
   },
   "outputs": [],
   "source": [
    "# takes time to compute\n",
    "all_q_df = {}\n",
    "for k_itr in sig_genes.keys():\n",
    "    gene_itr = sig_genes[k_itr]\n",
    "    # raw_gene_itr = get_preunique_names( gene_itr)\n",
    "    raw_gene_itr = gene_itr\n",
    "    q_df = query_genes( raw_gene_itr.tolist(), bk_grd=back_ground_raw, p_thresh=0.05)\n",
    "    all_q_df[k_itr] = q_df"
   ]
  },
  {
   "cell_type": "code",
   "execution_count": 50,
   "metadata": {},
   "outputs": [],
   "source": [
    "#all_q_df = nmc.load_obj(\"data/dev_deg_v6/devDEG_Gene-Ontology-hits.pkl\")\n",
    "#all_q_df = nmc.load_obj(\"data/dev_deg_v4/devDEG_Gene-Ontology-hits.pkl\")"
   ]
  },
  {
   "cell_type": "code",
   "execution_count": 37,
   "metadata": {
    "ExecuteTime": {
     "end_time": "2022-08-15T06:24:21.268049Z",
     "start_time": "2022-08-15T06:24:21.004893Z"
    }
   },
   "outputs": [],
   "source": [
    "nmc.save_obj( all_q_df, \"data/dev_deg_v9/devDEG_Gene-Ontology-hits.pkl\")"
   ]
  },
  {
   "cell_type": "code",
   "execution_count": 38,
   "metadata": {},
   "outputs": [
    {
     "data": {
      "text/plain": [
       "140"
      ]
     },
     "execution_count": 38,
     "metadata": {},
     "output_type": "execute_result"
    }
   ],
   "source": [
    "len(all_q_df.keys())\n",
    "gam_fits = nmc.load_obj(\"data/dev_deg_v8/AGE_gam_fits_12_grid100.filtered100.pkl\")\n",
    "len(gam_fits.keys())"
   ]
  },
  {
   "cell_type": "code",
   "execution_count": 39,
   "metadata": {},
   "outputs": [
    {
     "data": {
      "text/plain": [
       "dict_keys(['e-A1', 'e-A2', 'e-A3', 'e-A4', 'e-A5', 'e-B1', 'e-B2', 'e-C1', 'e-C2', 'e-C3', 'e-C4', 'e-C5', 'e-C6', 'e-C7', 'e-C8', 'e-C9', 'e-F1', 'e-H10', 'e-H2', 'e-H3', 'e-H4', 'e-H5', 'e-H6', 'e-H7', 'e-H8', 'e-H9', 'e-L2', 'e-L3', 'e-L4', 'e-L5', 'e-L6', 'e-L8', 'e-M1', 'e-M10', 'e-M2', 'e-M3', 'e-M4', 'e-M5', 'e-M6', 'e-M7', 'e-M8', 'e-M9', 'e-N1', 'e-N10', 'e-N11', 'e-N2', 'e-N3', 'e-N4', 'e-N5', 'e-N6', 'e-N7', 'e-N8', 'e-N9', 'e-P1', 'e-P2', 'e-P3', 'e-P4', 'e-T1', 'e-T2', 'e-X1', 'i-B1', 'i-B10', 'i-B11', 'i-B13', 'i-B2', 'i-B3', 'i-B4', 'i-B5', 'i-B6', 'i-B7', 'i-B8', 'i-B9', 'i-C1', 'i-C2', 'i-H1', 'i-H10', 'i-H11', 'i-H2', 'i-H3', 'i-H4', 'i-H5', 'i-H6', 'i-H7', 'i-H8', 'i-H9', 'i-L1', 'i-L2', 'i-L3', 'i-L4', 'i-L5', 'i-L6', 'i-L7', 'i-M1', 'i-M10', 'i-M11', 'i-M12', 'i-M2', 'i-M3', 'i-M4', 'i-M5', 'i-M6', 'i-M7', 'i-M8', 'i-M9', 'i-P1', 'i-P2', 'i-P3', 'i-P4', 'i-S1', 'i-S3', 'i-S4', 'i-S5', 'i-S6', 'i-S7', 'i-S8', 'i-V1', 'i-V2', 'i-V3', 'i-V4', 'i-V5', 'i-V6', 'i-V7', 'i-V8', 'i-V9', 'i-X1', 'i-X10', 'i-X12', 'i-X13', 'i-X14', 'i-X15', 'i-X16', 'i-X17', 'i-X2', 'i-X3', 'i-X4', 'i-X5', 'i-X6', 'i-X7', 'i-X8', 'i-X9'])"
      ]
     },
     "execution_count": 39,
     "metadata": {},
     "output_type": "execute_result"
    }
   ],
   "source": [
    "all_q_df.keys()"
   ]
  },
  {
   "cell_type": "code",
   "execution_count": 40,
   "metadata": {},
   "outputs": [
    {
     "name": "stdout",
     "output_type": "stream",
     "text": [
      "e-A1\n",
      "e-A2\n",
      "e-A3\n",
      "e-A4\n",
      "e-A5\n",
      "e-B1\n",
      "e-B2\n",
      "e-C1\n",
      "e-C2\n",
      "e-C3\n",
      "e-C4\n",
      "e-C5\n",
      "e-C6\n",
      "e-C7\n",
      "e-C8\n",
      "e-C9\n",
      "e-F1\n",
      "e-H10\n",
      "e-H2\n",
      "e-H3\n",
      "e-H4\n",
      "e-H5\n",
      "e-H6\n",
      "e-H7\n",
      "e-H8\n",
      "e-H9\n",
      "e-L2\n",
      "e-L3\n",
      "e-L4\n",
      "e-L5\n",
      "e-L6\n",
      "e-L8\n",
      "e-M1\n",
      "e-M10\n",
      "e-M2\n",
      "e-M3\n",
      "e-M4\n",
      "e-M5\n",
      "e-M6\n",
      "e-M7\n",
      "e-M8\n",
      "e-M9\n",
      "e-N1\n",
      "e-N10\n",
      "e-N11\n",
      "e-N2\n",
      "e-N3\n",
      "e-N4\n",
      "e-N5\n",
      "e-N6\n",
      "e-N7\n",
      "e-N8\n",
      "e-N9\n",
      "e-P1\n",
      "e-P2\n",
      "e-P3\n",
      "e-P4\n",
      "e-T1\n",
      "e-T2\n",
      "e-X1\n",
      "i-B1\n",
      "i-B10\n",
      "i-B11\n",
      "i-B13\n",
      "i-B2\n",
      "i-B3\n",
      "i-B4\n",
      "i-B5\n",
      "i-B6\n",
      "i-B7\n",
      "i-B8\n",
      "i-B9\n",
      "i-C1\n",
      "i-C2\n",
      "i-H1\n",
      "i-H10\n",
      "i-H11\n",
      "i-H2\n",
      "i-H3\n",
      "i-H4\n",
      "i-H5\n",
      "i-H6\n",
      "i-H7\n",
      "i-H8\n",
      "i-H9\n",
      "i-L1\n",
      "i-L2\n",
      "i-L3\n",
      "i-L4\n",
      "i-L5\n",
      "i-L6\n",
      "i-L7\n",
      "i-M1\n",
      "i-M10\n",
      "i-M11\n",
      "i-M12\n",
      "i-M2\n",
      "i-M3\n",
      "i-M4\n",
      "i-M5\n",
      "i-M6\n",
      "i-M7\n",
      "i-M8\n",
      "i-M9\n",
      "i-P1\n",
      "i-P2\n",
      "i-P3\n",
      "i-P4\n",
      "i-S1\n",
      "i-S3\n",
      "i-S4\n",
      "i-S5\n",
      "i-S6\n",
      "i-S7\n",
      "i-S8\n",
      "i-V1\n",
      "i-V2\n",
      "i-V3\n",
      "i-V4\n",
      "i-V5\n",
      "i-V6\n",
      "i-V7\n",
      "i-V8\n",
      "i-V9\n",
      "i-X1\n",
      "i-X10\n",
      "i-X12\n",
      "i-X13\n",
      "i-X14\n",
      "i-X15\n",
      "i-X16\n",
      "i-X17\n",
      "i-X2\n",
      "i-X3\n",
      "i-X4\n",
      "i-X5\n",
      "i-X6\n",
      "i-X7\n",
      "i-X8\n",
      "i-X9\n"
     ]
    }
   ],
   "source": [
    "#for cell_type in all_q_df:\n",
    "for cell_type in gam_fits.keys():   \n",
    "    print(cell_type)\n",
    "    df = all_q_df[cell_type]\n",
    "    df[\"cell_type\"] = cell_type\n",
    "    col = df.pop(\"cell_type\")\n",
    "    df.insert(0, \"cell_type\", col)\n",
    "    df.to_csv(f\"data/dev_deg_v8/{cell_type}_GO.csv\")\n",
    "go_result = pd.concat(list(all_q_df.values()))\n",
    "go_result.to_csv(\"data/dev_deg_v8/devdeg_go.csv\")"
   ]
  },
  {
   "cell_type": "code",
   "execution_count": 41,
   "metadata": {},
   "outputs": [
    {
     "name": "stdout",
     "output_type": "stream",
     "text": [
      "0\n",
      "1\n",
      "2\n",
      "3\n",
      "4\n",
      "5\n",
      "6\n",
      "7\n",
      "8\n",
      "9\n",
      "10\n",
      "11\n",
      "12\n",
      "13\n",
      "14\n",
      "15\n",
      "16\n",
      "17\n",
      "18\n",
      "19\n",
      "20\n",
      "21\n",
      "22\n",
      "23\n",
      "24\n",
      "25\n",
      "26\n",
      "27\n",
      "28\n"
     ]
    }
   ],
   "source": [
    "gene_cluster_ids = pd.read_csv(\"data/dev_deg_v8/gene_cluster_ids.csv\")\n",
    "clusters = pd.unique(gene_cluster_ids[\"gene_trend\"])\n",
    "go_cluster_df = {}\n",
    "for cluster in clusters:\n",
    "    subset = gene_cluster_ids[gene_cluster_ids[\"gene_trend\"] == cluster]\n",
    "    print(cluster)\n",
    "    genes = subset[\"gene_name\"].tolist()\n",
    "    q_df = query_genes(genes, bk_grd=back_ground_raw, p_thresh=0.05)\n",
    "    go_cluster_df[cluster] = q_df\n",
    "for cluster in go_cluster_df:\n",
    "    df = go_cluster_df[cluster]\n",
    "    df[\"cluster\"] = cluster\n",
    "    col = df.pop(\"cluster\")\n",
    "    df.insert(0, \"cluster\", col)\n",
    "    df.to_csv(f\"data/dev_deg_v8/bycluster/{cluster}_GO.csv\")\n",
    "go_result = pd.concat(list(go_cluster_df.values()))\n",
    "go_result.to_csv(\"data/dev_deg_v8/bycluster/devdeg_go.csv\")"
   ]
  },
  {
   "cell_type": "code",
   "execution_count": 42,
   "metadata": {},
   "outputs": [
    {
     "ename": "KeyboardInterrupt",
     "evalue": "",
     "output_type": "error",
     "traceback": [
      "\u001b[0;31m---------------------------------------------------------------------------\u001b[0m",
      "\u001b[0;31mKeyboardInterrupt\u001b[0m                         Traceback (most recent call last)",
      "Cell \u001b[0;32mIn[42], line 9\u001b[0m\n\u001b[1;32m      7\u001b[0m subset1 \u001b[38;5;241m=\u001b[39m subset[subset[\u001b[38;5;124m\"\u001b[39m\u001b[38;5;124mcell_type\u001b[39m\u001b[38;5;124m\"\u001b[39m] \u001b[38;5;241m==\u001b[39m cell_type]\n\u001b[1;32m      8\u001b[0m genes \u001b[38;5;241m=\u001b[39m subset1[\u001b[38;5;124m\"\u001b[39m\u001b[38;5;124mgene_name\u001b[39m\u001b[38;5;124m\"\u001b[39m]\u001b[38;5;241m.\u001b[39mtolist()\n\u001b[0;32m----> 9\u001b[0m q_df \u001b[38;5;241m=\u001b[39m \u001b[43mquery_genes\u001b[49m\u001b[43m(\u001b[49m\u001b[43mgenes\u001b[49m\u001b[43m,\u001b[49m\u001b[43m \u001b[49m\u001b[43mbk_grd\u001b[49m\u001b[38;5;241;43m=\u001b[39;49m\u001b[43mback_ground_raw\u001b[49m\u001b[43m,\u001b[49m\u001b[43m \u001b[49m\u001b[43mp_thresh\u001b[49m\u001b[38;5;241;43m=\u001b[39;49m\u001b[38;5;241;43m0.05\u001b[39;49m\u001b[43m)\u001b[49m\n\u001b[1;32m     10\u001b[0m index \u001b[38;5;241m=\u001b[39m \u001b[38;5;124mf\u001b[39m\u001b[38;5;124m\"\u001b[39m\u001b[38;5;132;01m{\u001b[39;00mcluster\u001b[38;5;132;01m}\u001b[39;00m\u001b[38;5;124m_\u001b[39m\u001b[38;5;132;01m{\u001b[39;00mcell_type\u001b[38;5;132;01m}\u001b[39;00m\u001b[38;5;124m\"\u001b[39m\n\u001b[1;32m     11\u001b[0m go_cluster_df[index] \u001b[38;5;241m=\u001b[39m q_df\n",
      "Cell \u001b[0;32mIn[34], line 8\u001b[0m, in \u001b[0;36mquery_genes\u001b[0;34m(genes, bk_grd, p_thresh)\u001b[0m\n\u001b[1;32m      6\u001b[0m \u001b[38;5;66;03m# base url sets version used in our study\u001b[39;00m\n\u001b[1;32m      7\u001b[0m gp \u001b[38;5;241m=\u001b[39m GProfiler( return_dataframe\u001b[38;5;241m=\u001b[39m\u001b[38;5;28;01mTrue\u001b[39;00m, base_url\u001b[38;5;241m=\u001b[39m\u001b[38;5;124m\"\u001b[39m\u001b[38;5;124mhttps://biit.cs.ut.ee/gprofiler_archive3/e102_eg49_p15/\u001b[39m\u001b[38;5;124m\"\u001b[39m)\n\u001b[0;32m----> 8\u001b[0m query_df \u001b[38;5;241m=\u001b[39m \u001b[43mgp\u001b[49m\u001b[38;5;241;43m.\u001b[39;49m\u001b[43mprofile\u001b[49m\u001b[43m(\u001b[49m\u001b[43m \u001b[49m\u001b[43morganism\u001b[49m\u001b[38;5;241;43m=\u001b[39;49m\u001b[38;5;124;43m'\u001b[39;49m\u001b[38;5;124;43mhsapiens\u001b[39;49m\u001b[38;5;124;43m'\u001b[39;49m\u001b[43m,\u001b[49m\u001b[43m \u001b[49m\u001b[43mquery\u001b[49m\u001b[38;5;241;43m=\u001b[39;49m\u001b[43mgenes\u001b[49m\u001b[43m,\u001b[49m\u001b[43m \u001b[49m\u001b[43muser_threshold\u001b[49m\u001b[38;5;241;43m=\u001b[39;49m\u001b[43mp_thresh\u001b[49m\u001b[43m,\u001b[49m\u001b[43m \u001b[49m\u001b[43mbackground\u001b[49m\u001b[38;5;241;43m=\u001b[39;49m\u001b[43mbk_grd\u001b[49m\u001b[43m)\u001b[49m\n\u001b[1;32m      9\u001b[0m \u001b[38;5;66;03m####################################################\u001b[39;00m\n\u001b[1;32m     10\u001b[0m query_df \u001b[38;5;241m=\u001b[39m query_df[np\u001b[38;5;241m.\u001b[39min1d( query_df[\u001b[38;5;124m'\u001b[39m\u001b[38;5;124msource\u001b[39m\u001b[38;5;124m'\u001b[39m]\u001b[38;5;241m.\u001b[39mvalues, [\u001b[38;5;124m'\u001b[39m\u001b[38;5;124mGO:MF\u001b[39m\u001b[38;5;124m'\u001b[39m,\u001b[38;5;124m'\u001b[39m\u001b[38;5;124mGO:BP\u001b[39m\u001b[38;5;124m'\u001b[39m])]\n",
      "File \u001b[0;32m~/Desktop/code/2_single_cell/dulac_kaplan2023_dev_regulation_snRNAseq_scATACseq_mouse_hbc04623/data/hotspot_env/lib/python3.10/site-packages/gprofiler/gprofiler.py:100\u001b[0m, in \u001b[0;36mGProfiler.profile\u001b[0;34m(self, query, organism, sources, user_threshold, all_results, ordered, no_evidences, combined, measure_underrepresentation, no_iea, domain_scope, numeric_namespace, significance_threshold_method, background)\u001b[0m\n\u001b[1;32m     97\u001b[0m \u001b[38;5;28;01mif\u001b[39;00m background \u001b[38;5;129;01mis\u001b[39;00m \u001b[38;5;129;01mnot\u001b[39;00m \u001b[38;5;28;01mNone\u001b[39;00m:\n\u001b[1;32m     98\u001b[0m     domain_scope \u001b[38;5;241m=\u001b[39m \u001b[38;5;124m'\u001b[39m\u001b[38;5;124mcustom\u001b[39m\u001b[38;5;124m'\u001b[39m\n\u001b[0;32m--> 100\u001b[0m r \u001b[38;5;241m=\u001b[39m \u001b[43mrequests\u001b[49m\u001b[38;5;241;43m.\u001b[39;49m\u001b[43mpost\u001b[49m\u001b[43m(\u001b[49m\n\u001b[1;32m    101\u001b[0m \u001b[43m    \u001b[49m\u001b[38;5;124;43m'\u001b[39;49m\u001b[38;5;132;43;01m{}\u001b[39;49;00m\u001b[38;5;124;43m/api/gost/profile/\u001b[39;49m\u001b[38;5;124;43m'\u001b[39;49m\u001b[38;5;241;43m.\u001b[39;49m\u001b[43mformat\u001b[49m\u001b[43m(\u001b[49m\u001b[38;5;28;43mself\u001b[39;49m\u001b[38;5;241;43m.\u001b[39;49m\u001b[43mbase_url\u001b[49m\u001b[38;5;241;43m.\u001b[39;49m\u001b[43mrstrip\u001b[49m\u001b[43m(\u001b[49m\u001b[38;5;124;43m\"\u001b[39;49m\u001b[38;5;124;43m/\u001b[39;49m\u001b[38;5;124;43m\"\u001b[39;49m\u001b[43m)\u001b[49m\u001b[43m)\u001b[49m\u001b[43m,\u001b[49m\n\u001b[1;32m    102\u001b[0m \u001b[43m    \u001b[49m\u001b[43mjson\u001b[49m\u001b[38;5;241;43m=\u001b[39;49m\u001b[43m{\u001b[49m\n\u001b[1;32m    103\u001b[0m \u001b[43m        \u001b[49m\u001b[38;5;124;43m'\u001b[39;49m\u001b[38;5;124;43morganism\u001b[39;49m\u001b[38;5;124;43m'\u001b[39;49m\u001b[43m:\u001b[49m\u001b[43m \u001b[49m\u001b[43morganism\u001b[49m\u001b[43m,\u001b[49m\u001b[43m  \u001b[49m\u001b[38;5;66;43;03m# string, eg \"hsapiens\"\u001b[39;49;00m\n\u001b[1;32m    104\u001b[0m \u001b[43m        \u001b[49m\u001b[38;5;124;43m'\u001b[39;49m\u001b[38;5;124;43mquery\u001b[39;49m\u001b[38;5;124;43m'\u001b[39;49m\u001b[43m:\u001b[49m\u001b[43m \u001b[49m\u001b[43mquery\u001b[49m\u001b[43m,\u001b[49m\u001b[43m  \u001b[49m\u001b[38;5;66;43;03m# whitespace-delimited string or list of strings or object of strings to lists of strings\u001b[39;49;00m\n\u001b[1;32m    105\u001b[0m \u001b[43m        \u001b[49m\u001b[38;5;124;43m'\u001b[39;49m\u001b[38;5;124;43msources\u001b[39;49m\u001b[38;5;124;43m'\u001b[39;49m\u001b[43m:\u001b[49m\u001b[43m \u001b[49m\u001b[43msources\u001b[49m\u001b[43m,\u001b[49m\u001b[43m  \u001b[49m\u001b[38;5;66;43;03m# list of strings, for example:\u001b[39;49;00m\n\u001b[1;32m    106\u001b[0m \u001b[43m        \u001b[49m\u001b[38;5;124;43m'\u001b[39;49m\u001b[38;5;124;43muser_threshold\u001b[39;49m\u001b[38;5;124;43m'\u001b[39;49m\u001b[43m:\u001b[49m\u001b[43m \u001b[49m\u001b[43muser_threshold\u001b[49m\u001b[43m,\u001b[49m\u001b[43m  \u001b[49m\u001b[38;5;66;43;03m# significance threshold, defaults to 0.05\u001b[39;49;00m\n\u001b[1;32m    107\u001b[0m \u001b[43m        \u001b[49m\u001b[38;5;124;43m'\u001b[39;49m\u001b[38;5;124;43mall_results\u001b[39;49m\u001b[38;5;124;43m'\u001b[39;49m\u001b[43m:\u001b[49m\u001b[43m \u001b[49m\u001b[43mall_results\u001b[49m\u001b[43m,\u001b[49m\u001b[43m  \u001b[49m\u001b[38;5;66;43;03m# bool\u001b[39;49;00m\n\u001b[1;32m    108\u001b[0m \u001b[43m        \u001b[49m\u001b[38;5;124;43m'\u001b[39;49m\u001b[38;5;124;43mno_evidences\u001b[39;49m\u001b[38;5;124;43m'\u001b[39;49m\u001b[43m:\u001b[49m\u001b[43m \u001b[49m\u001b[43mno_evidences\u001b[49m\u001b[43m,\u001b[49m\u001b[43m  \u001b[49m\u001b[38;5;66;43;03m# bool - if set to true, saves on database lookups\u001b[39;49;00m\n\u001b[1;32m    109\u001b[0m \u001b[43m        \u001b[49m\u001b[38;5;124;43m'\u001b[39;49m\u001b[38;5;124;43mcombined\u001b[39;49m\u001b[38;5;124;43m'\u001b[39;49m\u001b[43m:\u001b[49m\u001b[43m \u001b[49m\u001b[43mcombined\u001b[49m\u001b[43m,\u001b[49m\u001b[43m  \u001b[49m\u001b[38;5;66;43;03m# bool, set to true for g:Cocoa output\u001b[39;49;00m\n\u001b[1;32m    110\u001b[0m \u001b[43m        \u001b[49m\u001b[38;5;124;43m'\u001b[39;49m\u001b[38;5;124;43mmeasure_underrepresentation\u001b[39;49m\u001b[38;5;124;43m'\u001b[39;49m\u001b[43m:\u001b[49m\u001b[43m \u001b[49m\u001b[43mmeasure_underrepresentation\u001b[49m\u001b[43m,\u001b[49m\u001b[43m  \u001b[49m\u001b[38;5;66;43;03m# bool\u001b[39;49;00m\n\u001b[1;32m    111\u001b[0m \u001b[43m        \u001b[49m\u001b[38;5;124;43m'\u001b[39;49m\u001b[38;5;124;43mno_iea\u001b[39;49m\u001b[38;5;124;43m'\u001b[39;49m\u001b[43m:\u001b[49m\u001b[43m \u001b[49m\u001b[43mno_iea\u001b[49m\u001b[43m,\u001b[49m\u001b[43m  \u001b[49m\u001b[38;5;66;43;03m# bool\u001b[39;49;00m\n\u001b[1;32m    112\u001b[0m \u001b[43m        \u001b[49m\u001b[38;5;124;43m'\u001b[39;49m\u001b[38;5;124;43mnumeric_ns\u001b[39;49m\u001b[38;5;124;43m'\u001b[39;49m\u001b[43m:\u001b[49m\u001b[43m \u001b[49m\u001b[43mnumeric_namespace\u001b[49m\u001b[43m,\u001b[49m\u001b[43m  \u001b[49m\u001b[38;5;66;43;03m# string\u001b[39;49;00m\n\u001b[1;32m    113\u001b[0m \u001b[43m        \u001b[49m\u001b[38;5;124;43m'\u001b[39;49m\u001b[38;5;124;43mdomain_scope\u001b[39;49m\u001b[38;5;124;43m'\u001b[39;49m\u001b[43m:\u001b[49m\u001b[43m \u001b[49m\u001b[43mdomain_scope\u001b[49m\u001b[43m,\u001b[49m\u001b[43m  \u001b[49m\u001b[38;5;66;43;03m# string 'known'|'annotated'|'custom'\u001b[39;49;00m\n\u001b[1;32m    114\u001b[0m \u001b[43m        \u001b[49m\u001b[38;5;124;43m'\u001b[39;49m\u001b[38;5;124;43mordered\u001b[39;49m\u001b[38;5;124;43m'\u001b[39;49m\u001b[43m:\u001b[49m\u001b[43m \u001b[49m\u001b[43mordered\u001b[49m\u001b[43m,\u001b[49m\u001b[43m  \u001b[49m\u001b[38;5;66;43;03m# bool, set to true for ordered query\u001b[39;49;00m\n\u001b[1;32m    115\u001b[0m \u001b[43m        \u001b[49m\u001b[38;5;124;43m'\u001b[39;49m\u001b[38;5;124;43msignificance_threshold_method\u001b[39;49m\u001b[38;5;124;43m'\u001b[39;49m\u001b[43m:\u001b[49m\u001b[43m \u001b[49m\u001b[43msignificance_threshold_method\u001b[49m\u001b[43m,\u001b[49m\u001b[43m  \u001b[49m\u001b[38;5;66;43;03m# string, \"g_SCS\"|\"bonferroni\"|\"fdr\", \"g_SCS\"by default\u001b[39;49;00m\n\u001b[1;32m    116\u001b[0m \u001b[43m        \u001b[49m\u001b[38;5;124;43m'\u001b[39;49m\u001b[38;5;124;43mbackground\u001b[39;49m\u001b[38;5;124;43m'\u001b[39;49m\u001b[43m:\u001b[49m\u001b[43m \u001b[49m\u001b[43mbackground\u001b[49m\u001b[43m \u001b[49m\u001b[38;5;28;43;01mif\u001b[39;49;00m\u001b[43m \u001b[49m\u001b[43mbackground\u001b[49m\u001b[43m \u001b[49m\u001b[38;5;129;43;01mis\u001b[39;49;00m\u001b[43m \u001b[49m\u001b[38;5;129;43;01mnot\u001b[39;49;00m\u001b[43m \u001b[49m\u001b[38;5;28;43;01mNone\u001b[39;49;00m\u001b[43m \u001b[49m\u001b[38;5;28;43;01melse\u001b[39;49;00m\u001b[43m \u001b[49m\u001b[38;5;124;43m'\u001b[39;49m\u001b[38;5;124;43m'\u001b[39;49m\u001b[43m  \u001b[49m\u001b[38;5;66;43;03m# string,  background name or query string\u001b[39;49;00m\n\u001b[1;32m    117\u001b[0m \n\u001b[1;32m    118\u001b[0m \u001b[43m    \u001b[49m\u001b[43m}\u001b[49m\n\u001b[1;32m    119\u001b[0m \u001b[43m    \u001b[49m\u001b[43m,\u001b[49m\u001b[43m \u001b[49m\u001b[43mheaders\u001b[49m\u001b[38;5;241;43m=\u001b[39;49m\u001b[43m{\u001b[49m\u001b[38;5;124;43m'\u001b[39;49m\u001b[38;5;124;43mUser-Agent\u001b[39;49m\u001b[38;5;124;43m'\u001b[39;49m\u001b[43m:\u001b[49m\u001b[43m \u001b[49m\u001b[38;5;28;43mself\u001b[39;49m\u001b[38;5;241;43m.\u001b[39;49m\u001b[43muser_agent\u001b[49m\u001b[43m}\u001b[49m\u001b[43m)\u001b[49m\n\u001b[1;32m    121\u001b[0m \u001b[38;5;28;01mif\u001b[39;00m r\u001b[38;5;241m.\u001b[39mstatus_code \u001b[38;5;241m!=\u001b[39m \u001b[38;5;241m200\u001b[39m:\n\u001b[1;32m    122\u001b[0m     message \u001b[38;5;241m=\u001b[39m \u001b[38;5;124m'\u001b[39m\u001b[38;5;124m'\u001b[39m\n",
      "File \u001b[0;32m~/Desktop/code/2_single_cell/dulac_kaplan2023_dev_regulation_snRNAseq_scATACseq_mouse_hbc04623/data/hotspot_env/lib/python3.10/site-packages/requests/api.py:115\u001b[0m, in \u001b[0;36mpost\u001b[0;34m(url, data, json, **kwargs)\u001b[0m\n\u001b[1;32m    103\u001b[0m \u001b[38;5;28;01mdef\u001b[39;00m \u001b[38;5;21mpost\u001b[39m(url, data\u001b[38;5;241m=\u001b[39m\u001b[38;5;28;01mNone\u001b[39;00m, json\u001b[38;5;241m=\u001b[39m\u001b[38;5;28;01mNone\u001b[39;00m, \u001b[38;5;241m*\u001b[39m\u001b[38;5;241m*\u001b[39mkwargs):\n\u001b[1;32m    104\u001b[0m     \u001b[38;5;124mr\u001b[39m\u001b[38;5;124;03m\"\"\"Sends a POST request.\u001b[39;00m\n\u001b[1;32m    105\u001b[0m \n\u001b[1;32m    106\u001b[0m \u001b[38;5;124;03m    :param url: URL for the new :class:`Request` object.\u001b[39;00m\n\u001b[0;32m   (...)\u001b[0m\n\u001b[1;32m    112\u001b[0m \u001b[38;5;124;03m    :rtype: requests.Response\u001b[39;00m\n\u001b[1;32m    113\u001b[0m \u001b[38;5;124;03m    \"\"\"\u001b[39;00m\n\u001b[0;32m--> 115\u001b[0m     \u001b[38;5;28;01mreturn\u001b[39;00m \u001b[43mrequest\u001b[49m\u001b[43m(\u001b[49m\u001b[38;5;124;43m\"\u001b[39;49m\u001b[38;5;124;43mpost\u001b[39;49m\u001b[38;5;124;43m\"\u001b[39;49m\u001b[43m,\u001b[49m\u001b[43m \u001b[49m\u001b[43murl\u001b[49m\u001b[43m,\u001b[49m\u001b[43m \u001b[49m\u001b[43mdata\u001b[49m\u001b[38;5;241;43m=\u001b[39;49m\u001b[43mdata\u001b[49m\u001b[43m,\u001b[49m\u001b[43m \u001b[49m\u001b[43mjson\u001b[49m\u001b[38;5;241;43m=\u001b[39;49m\u001b[43mjson\u001b[49m\u001b[43m,\u001b[49m\u001b[43m \u001b[49m\u001b[38;5;241;43m*\u001b[39;49m\u001b[38;5;241;43m*\u001b[39;49m\u001b[43mkwargs\u001b[49m\u001b[43m)\u001b[49m\n",
      "File \u001b[0;32m~/Desktop/code/2_single_cell/dulac_kaplan2023_dev_regulation_snRNAseq_scATACseq_mouse_hbc04623/data/hotspot_env/lib/python3.10/site-packages/requests/api.py:59\u001b[0m, in \u001b[0;36mrequest\u001b[0;34m(method, url, **kwargs)\u001b[0m\n\u001b[1;32m     55\u001b[0m \u001b[38;5;66;03m# By using the 'with' statement we are sure the session is closed, thus we\u001b[39;00m\n\u001b[1;32m     56\u001b[0m \u001b[38;5;66;03m# avoid leaving sockets open which can trigger a ResourceWarning in some\u001b[39;00m\n\u001b[1;32m     57\u001b[0m \u001b[38;5;66;03m# cases, and look like a memory leak in others.\u001b[39;00m\n\u001b[1;32m     58\u001b[0m \u001b[38;5;28;01mwith\u001b[39;00m sessions\u001b[38;5;241m.\u001b[39mSession() \u001b[38;5;28;01mas\u001b[39;00m session:\n\u001b[0;32m---> 59\u001b[0m     \u001b[38;5;28;01mreturn\u001b[39;00m \u001b[43msession\u001b[49m\u001b[38;5;241;43m.\u001b[39;49m\u001b[43mrequest\u001b[49m\u001b[43m(\u001b[49m\u001b[43mmethod\u001b[49m\u001b[38;5;241;43m=\u001b[39;49m\u001b[43mmethod\u001b[49m\u001b[43m,\u001b[49m\u001b[43m \u001b[49m\u001b[43murl\u001b[49m\u001b[38;5;241;43m=\u001b[39;49m\u001b[43murl\u001b[49m\u001b[43m,\u001b[49m\u001b[43m \u001b[49m\u001b[38;5;241;43m*\u001b[39;49m\u001b[38;5;241;43m*\u001b[39;49m\u001b[43mkwargs\u001b[49m\u001b[43m)\u001b[49m\n",
      "File \u001b[0;32m~/Desktop/code/2_single_cell/dulac_kaplan2023_dev_regulation_snRNAseq_scATACseq_mouse_hbc04623/data/hotspot_env/lib/python3.10/site-packages/requests/sessions.py:587\u001b[0m, in \u001b[0;36mSession.request\u001b[0;34m(self, method, url, params, data, headers, cookies, files, auth, timeout, allow_redirects, proxies, hooks, stream, verify, cert, json)\u001b[0m\n\u001b[1;32m    582\u001b[0m send_kwargs \u001b[38;5;241m=\u001b[39m {\n\u001b[1;32m    583\u001b[0m     \u001b[38;5;124m\"\u001b[39m\u001b[38;5;124mtimeout\u001b[39m\u001b[38;5;124m\"\u001b[39m: timeout,\n\u001b[1;32m    584\u001b[0m     \u001b[38;5;124m\"\u001b[39m\u001b[38;5;124mallow_redirects\u001b[39m\u001b[38;5;124m\"\u001b[39m: allow_redirects,\n\u001b[1;32m    585\u001b[0m }\n\u001b[1;32m    586\u001b[0m send_kwargs\u001b[38;5;241m.\u001b[39mupdate(settings)\n\u001b[0;32m--> 587\u001b[0m resp \u001b[38;5;241m=\u001b[39m \u001b[38;5;28;43mself\u001b[39;49m\u001b[38;5;241;43m.\u001b[39;49m\u001b[43msend\u001b[49m\u001b[43m(\u001b[49m\u001b[43mprep\u001b[49m\u001b[43m,\u001b[49m\u001b[43m \u001b[49m\u001b[38;5;241;43m*\u001b[39;49m\u001b[38;5;241;43m*\u001b[39;49m\u001b[43msend_kwargs\u001b[49m\u001b[43m)\u001b[49m\n\u001b[1;32m    589\u001b[0m \u001b[38;5;28;01mreturn\u001b[39;00m resp\n",
      "File \u001b[0;32m~/Desktop/code/2_single_cell/dulac_kaplan2023_dev_regulation_snRNAseq_scATACseq_mouse_hbc04623/data/hotspot_env/lib/python3.10/site-packages/requests/sessions.py:701\u001b[0m, in \u001b[0;36mSession.send\u001b[0;34m(self, request, **kwargs)\u001b[0m\n\u001b[1;32m    698\u001b[0m start \u001b[38;5;241m=\u001b[39m preferred_clock()\n\u001b[1;32m    700\u001b[0m \u001b[38;5;66;03m# Send the request\u001b[39;00m\n\u001b[0;32m--> 701\u001b[0m r \u001b[38;5;241m=\u001b[39m \u001b[43madapter\u001b[49m\u001b[38;5;241;43m.\u001b[39;49m\u001b[43msend\u001b[49m\u001b[43m(\u001b[49m\u001b[43mrequest\u001b[49m\u001b[43m,\u001b[49m\u001b[43m \u001b[49m\u001b[38;5;241;43m*\u001b[39;49m\u001b[38;5;241;43m*\u001b[39;49m\u001b[43mkwargs\u001b[49m\u001b[43m)\u001b[49m\n\u001b[1;32m    703\u001b[0m \u001b[38;5;66;03m# Total elapsed time of the request (approximately)\u001b[39;00m\n\u001b[1;32m    704\u001b[0m elapsed \u001b[38;5;241m=\u001b[39m preferred_clock() \u001b[38;5;241m-\u001b[39m start\n",
      "File \u001b[0;32m~/Desktop/code/2_single_cell/dulac_kaplan2023_dev_regulation_snRNAseq_scATACseq_mouse_hbc04623/data/hotspot_env/lib/python3.10/site-packages/requests/adapters.py:487\u001b[0m, in \u001b[0;36mHTTPAdapter.send\u001b[0;34m(self, request, stream, timeout, verify, cert, proxies)\u001b[0m\n\u001b[1;32m    484\u001b[0m     timeout \u001b[38;5;241m=\u001b[39m TimeoutSauce(connect\u001b[38;5;241m=\u001b[39mtimeout, read\u001b[38;5;241m=\u001b[39mtimeout)\n\u001b[1;32m    486\u001b[0m \u001b[38;5;28;01mtry\u001b[39;00m:\n\u001b[0;32m--> 487\u001b[0m     resp \u001b[38;5;241m=\u001b[39m \u001b[43mconn\u001b[49m\u001b[38;5;241;43m.\u001b[39;49m\u001b[43murlopen\u001b[49m\u001b[43m(\u001b[49m\n\u001b[1;32m    488\u001b[0m \u001b[43m        \u001b[49m\u001b[43mmethod\u001b[49m\u001b[38;5;241;43m=\u001b[39;49m\u001b[43mrequest\u001b[49m\u001b[38;5;241;43m.\u001b[39;49m\u001b[43mmethod\u001b[49m\u001b[43m,\u001b[49m\n\u001b[1;32m    489\u001b[0m \u001b[43m        \u001b[49m\u001b[43murl\u001b[49m\u001b[38;5;241;43m=\u001b[39;49m\u001b[43murl\u001b[49m\u001b[43m,\u001b[49m\n\u001b[1;32m    490\u001b[0m \u001b[43m        \u001b[49m\u001b[43mbody\u001b[49m\u001b[38;5;241;43m=\u001b[39;49m\u001b[43mrequest\u001b[49m\u001b[38;5;241;43m.\u001b[39;49m\u001b[43mbody\u001b[49m\u001b[43m,\u001b[49m\n\u001b[1;32m    491\u001b[0m \u001b[43m        \u001b[49m\u001b[43mheaders\u001b[49m\u001b[38;5;241;43m=\u001b[39;49m\u001b[43mrequest\u001b[49m\u001b[38;5;241;43m.\u001b[39;49m\u001b[43mheaders\u001b[49m\u001b[43m,\u001b[49m\n\u001b[1;32m    492\u001b[0m \u001b[43m        \u001b[49m\u001b[43mredirect\u001b[49m\u001b[38;5;241;43m=\u001b[39;49m\u001b[38;5;28;43;01mFalse\u001b[39;49;00m\u001b[43m,\u001b[49m\n\u001b[1;32m    493\u001b[0m \u001b[43m        \u001b[49m\u001b[43massert_same_host\u001b[49m\u001b[38;5;241;43m=\u001b[39;49m\u001b[38;5;28;43;01mFalse\u001b[39;49;00m\u001b[43m,\u001b[49m\n\u001b[1;32m    494\u001b[0m \u001b[43m        \u001b[49m\u001b[43mpreload_content\u001b[49m\u001b[38;5;241;43m=\u001b[39;49m\u001b[38;5;28;43;01mFalse\u001b[39;49;00m\u001b[43m,\u001b[49m\n\u001b[1;32m    495\u001b[0m \u001b[43m        \u001b[49m\u001b[43mdecode_content\u001b[49m\u001b[38;5;241;43m=\u001b[39;49m\u001b[38;5;28;43;01mFalse\u001b[39;49;00m\u001b[43m,\u001b[49m\n\u001b[1;32m    496\u001b[0m \u001b[43m        \u001b[49m\u001b[43mretries\u001b[49m\u001b[38;5;241;43m=\u001b[39;49m\u001b[38;5;28;43mself\u001b[39;49m\u001b[38;5;241;43m.\u001b[39;49m\u001b[43mmax_retries\u001b[49m\u001b[43m,\u001b[49m\n\u001b[1;32m    497\u001b[0m \u001b[43m        \u001b[49m\u001b[43mtimeout\u001b[49m\u001b[38;5;241;43m=\u001b[39;49m\u001b[43mtimeout\u001b[49m\u001b[43m,\u001b[49m\n\u001b[1;32m    498\u001b[0m \u001b[43m        \u001b[49m\u001b[43mchunked\u001b[49m\u001b[38;5;241;43m=\u001b[39;49m\u001b[43mchunked\u001b[49m\u001b[43m,\u001b[49m\n\u001b[1;32m    499\u001b[0m \u001b[43m    \u001b[49m\u001b[43m)\u001b[49m\n\u001b[1;32m    501\u001b[0m \u001b[38;5;28;01mexcept\u001b[39;00m (ProtocolError, \u001b[38;5;167;01mOSError\u001b[39;00m) \u001b[38;5;28;01mas\u001b[39;00m err:\n\u001b[1;32m    502\u001b[0m     \u001b[38;5;28;01mraise\u001b[39;00m \u001b[38;5;167;01mConnectionError\u001b[39;00m(err, request\u001b[38;5;241m=\u001b[39mrequest)\n",
      "File \u001b[0;32m~/Desktop/code/2_single_cell/dulac_kaplan2023_dev_regulation_snRNAseq_scATACseq_mouse_hbc04623/data/hotspot_env/lib/python3.10/site-packages/urllib3/connectionpool.py:703\u001b[0m, in \u001b[0;36mHTTPConnectionPool.urlopen\u001b[0;34m(self, method, url, body, headers, retries, redirect, assert_same_host, timeout, pool_timeout, release_conn, chunked, body_pos, **response_kw)\u001b[0m\n\u001b[1;32m    700\u001b[0m     \u001b[38;5;28mself\u001b[39m\u001b[38;5;241m.\u001b[39m_prepare_proxy(conn)\n\u001b[1;32m    702\u001b[0m \u001b[38;5;66;03m# Make the request on the httplib connection object.\u001b[39;00m\n\u001b[0;32m--> 703\u001b[0m httplib_response \u001b[38;5;241m=\u001b[39m \u001b[38;5;28;43mself\u001b[39;49m\u001b[38;5;241;43m.\u001b[39;49m\u001b[43m_make_request\u001b[49m\u001b[43m(\u001b[49m\n\u001b[1;32m    704\u001b[0m \u001b[43m    \u001b[49m\u001b[43mconn\u001b[49m\u001b[43m,\u001b[49m\n\u001b[1;32m    705\u001b[0m \u001b[43m    \u001b[49m\u001b[43mmethod\u001b[49m\u001b[43m,\u001b[49m\n\u001b[1;32m    706\u001b[0m \u001b[43m    \u001b[49m\u001b[43murl\u001b[49m\u001b[43m,\u001b[49m\n\u001b[1;32m    707\u001b[0m \u001b[43m    \u001b[49m\u001b[43mtimeout\u001b[49m\u001b[38;5;241;43m=\u001b[39;49m\u001b[43mtimeout_obj\u001b[49m\u001b[43m,\u001b[49m\n\u001b[1;32m    708\u001b[0m \u001b[43m    \u001b[49m\u001b[43mbody\u001b[49m\u001b[38;5;241;43m=\u001b[39;49m\u001b[43mbody\u001b[49m\u001b[43m,\u001b[49m\n\u001b[1;32m    709\u001b[0m \u001b[43m    \u001b[49m\u001b[43mheaders\u001b[49m\u001b[38;5;241;43m=\u001b[39;49m\u001b[43mheaders\u001b[49m\u001b[43m,\u001b[49m\n\u001b[1;32m    710\u001b[0m \u001b[43m    \u001b[49m\u001b[43mchunked\u001b[49m\u001b[38;5;241;43m=\u001b[39;49m\u001b[43mchunked\u001b[49m\u001b[43m,\u001b[49m\n\u001b[1;32m    711\u001b[0m \u001b[43m\u001b[49m\u001b[43m)\u001b[49m\n\u001b[1;32m    713\u001b[0m \u001b[38;5;66;03m# If we're going to release the connection in ``finally:``, then\u001b[39;00m\n\u001b[1;32m    714\u001b[0m \u001b[38;5;66;03m# the response doesn't need to know about the connection. Otherwise\u001b[39;00m\n\u001b[1;32m    715\u001b[0m \u001b[38;5;66;03m# it will also try to release it and we'll have a double-release\u001b[39;00m\n\u001b[1;32m    716\u001b[0m \u001b[38;5;66;03m# mess.\u001b[39;00m\n\u001b[1;32m    717\u001b[0m response_conn \u001b[38;5;241m=\u001b[39m conn \u001b[38;5;28;01mif\u001b[39;00m \u001b[38;5;129;01mnot\u001b[39;00m release_conn \u001b[38;5;28;01melse\u001b[39;00m \u001b[38;5;28;01mNone\u001b[39;00m\n",
      "File \u001b[0;32m~/Desktop/code/2_single_cell/dulac_kaplan2023_dev_regulation_snRNAseq_scATACseq_mouse_hbc04623/data/hotspot_env/lib/python3.10/site-packages/urllib3/connectionpool.py:449\u001b[0m, in \u001b[0;36mHTTPConnectionPool._make_request\u001b[0;34m(self, conn, method, url, timeout, chunked, **httplib_request_kw)\u001b[0m\n\u001b[1;32m    444\u001b[0m             httplib_response \u001b[38;5;241m=\u001b[39m conn\u001b[38;5;241m.\u001b[39mgetresponse()\n\u001b[1;32m    445\u001b[0m         \u001b[38;5;28;01mexcept\u001b[39;00m \u001b[38;5;167;01mBaseException\u001b[39;00m \u001b[38;5;28;01mas\u001b[39;00m e:\n\u001b[1;32m    446\u001b[0m             \u001b[38;5;66;03m# Remove the TypeError from the exception chain in\u001b[39;00m\n\u001b[1;32m    447\u001b[0m             \u001b[38;5;66;03m# Python 3 (including for exceptions like SystemExit).\u001b[39;00m\n\u001b[1;32m    448\u001b[0m             \u001b[38;5;66;03m# Otherwise it looks like a bug in the code.\u001b[39;00m\n\u001b[0;32m--> 449\u001b[0m             \u001b[43msix\u001b[49m\u001b[38;5;241;43m.\u001b[39;49m\u001b[43mraise_from\u001b[49m\u001b[43m(\u001b[49m\u001b[43me\u001b[49m\u001b[43m,\u001b[49m\u001b[43m \u001b[49m\u001b[38;5;28;43;01mNone\u001b[39;49;00m\u001b[43m)\u001b[49m\n\u001b[1;32m    450\u001b[0m \u001b[38;5;28;01mexcept\u001b[39;00m (SocketTimeout, BaseSSLError, SocketError) \u001b[38;5;28;01mas\u001b[39;00m e:\n\u001b[1;32m    451\u001b[0m     \u001b[38;5;28mself\u001b[39m\u001b[38;5;241m.\u001b[39m_raise_timeout(err\u001b[38;5;241m=\u001b[39me, url\u001b[38;5;241m=\u001b[39murl, timeout_value\u001b[38;5;241m=\u001b[39mread_timeout)\n",
      "File \u001b[0;32m<string>:3\u001b[0m, in \u001b[0;36mraise_from\u001b[0;34m(value, from_value)\u001b[0m\n",
      "File \u001b[0;32m~/Desktop/code/2_single_cell/dulac_kaplan2023_dev_regulation_snRNAseq_scATACseq_mouse_hbc04623/data/hotspot_env/lib/python3.10/site-packages/urllib3/connectionpool.py:444\u001b[0m, in \u001b[0;36mHTTPConnectionPool._make_request\u001b[0;34m(self, conn, method, url, timeout, chunked, **httplib_request_kw)\u001b[0m\n\u001b[1;32m    441\u001b[0m \u001b[38;5;28;01mexcept\u001b[39;00m \u001b[38;5;167;01mTypeError\u001b[39;00m:\n\u001b[1;32m    442\u001b[0m     \u001b[38;5;66;03m# Python 3\u001b[39;00m\n\u001b[1;32m    443\u001b[0m     \u001b[38;5;28;01mtry\u001b[39;00m:\n\u001b[0;32m--> 444\u001b[0m         httplib_response \u001b[38;5;241m=\u001b[39m \u001b[43mconn\u001b[49m\u001b[38;5;241;43m.\u001b[39;49m\u001b[43mgetresponse\u001b[49m\u001b[43m(\u001b[49m\u001b[43m)\u001b[49m\n\u001b[1;32m    445\u001b[0m     \u001b[38;5;28;01mexcept\u001b[39;00m \u001b[38;5;167;01mBaseException\u001b[39;00m \u001b[38;5;28;01mas\u001b[39;00m e:\n\u001b[1;32m    446\u001b[0m         \u001b[38;5;66;03m# Remove the TypeError from the exception chain in\u001b[39;00m\n\u001b[1;32m    447\u001b[0m         \u001b[38;5;66;03m# Python 3 (including for exceptions like SystemExit).\u001b[39;00m\n\u001b[1;32m    448\u001b[0m         \u001b[38;5;66;03m# Otherwise it looks like a bug in the code.\u001b[39;00m\n\u001b[1;32m    449\u001b[0m         six\u001b[38;5;241m.\u001b[39mraise_from(e, \u001b[38;5;28;01mNone\u001b[39;00m)\n",
      "File \u001b[0;32m~/Desktop/code/2_single_cell/dulac_kaplan2023_dev_regulation_snRNAseq_scATACseq_mouse_hbc04623/data/hotspot_env/lib/python3.10/http/client.py:1374\u001b[0m, in \u001b[0;36mHTTPConnection.getresponse\u001b[0;34m(self)\u001b[0m\n\u001b[1;32m   1372\u001b[0m \u001b[38;5;28;01mtry\u001b[39;00m:\n\u001b[1;32m   1373\u001b[0m     \u001b[38;5;28;01mtry\u001b[39;00m:\n\u001b[0;32m-> 1374\u001b[0m         \u001b[43mresponse\u001b[49m\u001b[38;5;241;43m.\u001b[39;49m\u001b[43mbegin\u001b[49m\u001b[43m(\u001b[49m\u001b[43m)\u001b[49m\n\u001b[1;32m   1375\u001b[0m     \u001b[38;5;28;01mexcept\u001b[39;00m \u001b[38;5;167;01mConnectionError\u001b[39;00m:\n\u001b[1;32m   1376\u001b[0m         \u001b[38;5;28mself\u001b[39m\u001b[38;5;241m.\u001b[39mclose()\n",
      "File \u001b[0;32m~/Desktop/code/2_single_cell/dulac_kaplan2023_dev_regulation_snRNAseq_scATACseq_mouse_hbc04623/data/hotspot_env/lib/python3.10/http/client.py:318\u001b[0m, in \u001b[0;36mHTTPResponse.begin\u001b[0;34m(self)\u001b[0m\n\u001b[1;32m    316\u001b[0m \u001b[38;5;66;03m# read until we get a non-100 response\u001b[39;00m\n\u001b[1;32m    317\u001b[0m \u001b[38;5;28;01mwhile\u001b[39;00m \u001b[38;5;28;01mTrue\u001b[39;00m:\n\u001b[0;32m--> 318\u001b[0m     version, status, reason \u001b[38;5;241m=\u001b[39m \u001b[38;5;28;43mself\u001b[39;49m\u001b[38;5;241;43m.\u001b[39;49m\u001b[43m_read_status\u001b[49m\u001b[43m(\u001b[49m\u001b[43m)\u001b[49m\n\u001b[1;32m    319\u001b[0m     \u001b[38;5;28;01mif\u001b[39;00m status \u001b[38;5;241m!=\u001b[39m CONTINUE:\n\u001b[1;32m    320\u001b[0m         \u001b[38;5;28;01mbreak\u001b[39;00m\n",
      "File \u001b[0;32m~/Desktop/code/2_single_cell/dulac_kaplan2023_dev_regulation_snRNAseq_scATACseq_mouse_hbc04623/data/hotspot_env/lib/python3.10/http/client.py:279\u001b[0m, in \u001b[0;36mHTTPResponse._read_status\u001b[0;34m(self)\u001b[0m\n\u001b[1;32m    278\u001b[0m \u001b[38;5;28;01mdef\u001b[39;00m \u001b[38;5;21m_read_status\u001b[39m(\u001b[38;5;28mself\u001b[39m):\n\u001b[0;32m--> 279\u001b[0m     line \u001b[38;5;241m=\u001b[39m \u001b[38;5;28mstr\u001b[39m(\u001b[38;5;28;43mself\u001b[39;49m\u001b[38;5;241;43m.\u001b[39;49m\u001b[43mfp\u001b[49m\u001b[38;5;241;43m.\u001b[39;49m\u001b[43mreadline\u001b[49m\u001b[43m(\u001b[49m\u001b[43m_MAXLINE\u001b[49m\u001b[43m \u001b[49m\u001b[38;5;241;43m+\u001b[39;49m\u001b[43m \u001b[49m\u001b[38;5;241;43m1\u001b[39;49m\u001b[43m)\u001b[49m, \u001b[38;5;124m\"\u001b[39m\u001b[38;5;124miso-8859-1\u001b[39m\u001b[38;5;124m\"\u001b[39m)\n\u001b[1;32m    280\u001b[0m     \u001b[38;5;28;01mif\u001b[39;00m \u001b[38;5;28mlen\u001b[39m(line) \u001b[38;5;241m>\u001b[39m _MAXLINE:\n\u001b[1;32m    281\u001b[0m         \u001b[38;5;28;01mraise\u001b[39;00m LineTooLong(\u001b[38;5;124m\"\u001b[39m\u001b[38;5;124mstatus line\u001b[39m\u001b[38;5;124m\"\u001b[39m)\n",
      "File \u001b[0;32m~/Desktop/code/2_single_cell/dulac_kaplan2023_dev_regulation_snRNAseq_scATACseq_mouse_hbc04623/data/hotspot_env/lib/python3.10/socket.py:705\u001b[0m, in \u001b[0;36mSocketIO.readinto\u001b[0;34m(self, b)\u001b[0m\n\u001b[1;32m    703\u001b[0m \u001b[38;5;28;01mwhile\u001b[39;00m \u001b[38;5;28;01mTrue\u001b[39;00m:\n\u001b[1;32m    704\u001b[0m     \u001b[38;5;28;01mtry\u001b[39;00m:\n\u001b[0;32m--> 705\u001b[0m         \u001b[38;5;28;01mreturn\u001b[39;00m \u001b[38;5;28;43mself\u001b[39;49m\u001b[38;5;241;43m.\u001b[39;49m\u001b[43m_sock\u001b[49m\u001b[38;5;241;43m.\u001b[39;49m\u001b[43mrecv_into\u001b[49m\u001b[43m(\u001b[49m\u001b[43mb\u001b[49m\u001b[43m)\u001b[49m\n\u001b[1;32m    706\u001b[0m     \u001b[38;5;28;01mexcept\u001b[39;00m timeout:\n\u001b[1;32m    707\u001b[0m         \u001b[38;5;28mself\u001b[39m\u001b[38;5;241m.\u001b[39m_timeout_occurred \u001b[38;5;241m=\u001b[39m \u001b[38;5;28;01mTrue\u001b[39;00m\n",
      "File \u001b[0;32m~/Desktop/code/2_single_cell/dulac_kaplan2023_dev_regulation_snRNAseq_scATACseq_mouse_hbc04623/data/hotspot_env/lib/python3.10/ssl.py:1274\u001b[0m, in \u001b[0;36mSSLSocket.recv_into\u001b[0;34m(self, buffer, nbytes, flags)\u001b[0m\n\u001b[1;32m   1270\u001b[0m     \u001b[38;5;28;01mif\u001b[39;00m flags \u001b[38;5;241m!=\u001b[39m \u001b[38;5;241m0\u001b[39m:\n\u001b[1;32m   1271\u001b[0m         \u001b[38;5;28;01mraise\u001b[39;00m \u001b[38;5;167;01mValueError\u001b[39;00m(\n\u001b[1;32m   1272\u001b[0m           \u001b[38;5;124m\"\u001b[39m\u001b[38;5;124mnon-zero flags not allowed in calls to recv_into() on \u001b[39m\u001b[38;5;132;01m%s\u001b[39;00m\u001b[38;5;124m\"\u001b[39m \u001b[38;5;241m%\u001b[39m\n\u001b[1;32m   1273\u001b[0m           \u001b[38;5;28mself\u001b[39m\u001b[38;5;241m.\u001b[39m\u001b[38;5;18m__class__\u001b[39m)\n\u001b[0;32m-> 1274\u001b[0m     \u001b[38;5;28;01mreturn\u001b[39;00m \u001b[38;5;28;43mself\u001b[39;49m\u001b[38;5;241;43m.\u001b[39;49m\u001b[43mread\u001b[49m\u001b[43m(\u001b[49m\u001b[43mnbytes\u001b[49m\u001b[43m,\u001b[49m\u001b[43m \u001b[49m\u001b[43mbuffer\u001b[49m\u001b[43m)\u001b[49m\n\u001b[1;32m   1275\u001b[0m \u001b[38;5;28;01melse\u001b[39;00m:\n\u001b[1;32m   1276\u001b[0m     \u001b[38;5;28;01mreturn\u001b[39;00m \u001b[38;5;28msuper\u001b[39m()\u001b[38;5;241m.\u001b[39mrecv_into(buffer, nbytes, flags)\n",
      "File \u001b[0;32m~/Desktop/code/2_single_cell/dulac_kaplan2023_dev_regulation_snRNAseq_scATACseq_mouse_hbc04623/data/hotspot_env/lib/python3.10/ssl.py:1130\u001b[0m, in \u001b[0;36mSSLSocket.read\u001b[0;34m(self, len, buffer)\u001b[0m\n\u001b[1;32m   1128\u001b[0m \u001b[38;5;28;01mtry\u001b[39;00m:\n\u001b[1;32m   1129\u001b[0m     \u001b[38;5;28;01mif\u001b[39;00m buffer \u001b[38;5;129;01mis\u001b[39;00m \u001b[38;5;129;01mnot\u001b[39;00m \u001b[38;5;28;01mNone\u001b[39;00m:\n\u001b[0;32m-> 1130\u001b[0m         \u001b[38;5;28;01mreturn\u001b[39;00m \u001b[38;5;28;43mself\u001b[39;49m\u001b[38;5;241;43m.\u001b[39;49m\u001b[43m_sslobj\u001b[49m\u001b[38;5;241;43m.\u001b[39;49m\u001b[43mread\u001b[49m\u001b[43m(\u001b[49m\u001b[38;5;28;43mlen\u001b[39;49m\u001b[43m,\u001b[49m\u001b[43m \u001b[49m\u001b[43mbuffer\u001b[49m\u001b[43m)\u001b[49m\n\u001b[1;32m   1131\u001b[0m     \u001b[38;5;28;01melse\u001b[39;00m:\n\u001b[1;32m   1132\u001b[0m         \u001b[38;5;28;01mreturn\u001b[39;00m \u001b[38;5;28mself\u001b[39m\u001b[38;5;241m.\u001b[39m_sslobj\u001b[38;5;241m.\u001b[39mread(\u001b[38;5;28mlen\u001b[39m)\n",
      "\u001b[0;31mKeyboardInterrupt\u001b[0m: "
     ]
    }
   ],
   "source": [
    "clusters = pd.unique(gene_cluster_ids[\"gene_trend\"])\n",
    "go_cluster_df = {}\n",
    "for cluster in clusters:\n",
    "    subset = gene_cluster_ids[gene_cluster_ids[\"gene_trend\"] == cluster]\n",
    "    cell_types = pd.unique(subset[\"cell_type\"])\n",
    "    for cell_type in cell_types:\n",
    "        subset1 = subset[subset[\"cell_type\"] == cell_type]\n",
    "        genes = subset1[\"gene_name\"].tolist()\n",
    "        q_df = query_genes(genes, bk_grd=back_ground_raw, p_thresh=0.05)\n",
    "        index = f\"{cluster}_{cell_type}\"\n",
    "        go_cluster_df[index] = q_df\n",
    "for index in go_cluster_df:\n",
    "    df = go_cluster_df[index]\n",
    "    df[\"cluster_celltype\"] = index\n",
    "    col = df.pop(\"cluster_celltype\")\n",
    "    df.insert(0, \"cluster_celltype\", col)\n",
    "    df.to_csv(f\"data/dev_deg_v8/by_cluster_celltype/{index}_GO.csv\")\n",
    "go_result = pd.concat(list(go_cluster_df.values()))\n",
    "go_result.to_csv(\"data/dev_deg_v8/by_cluster_celltype/devdeg_go.csv\")"
   ]
  }
 ],
 "metadata": {
  "kernelspec": {
   "display_name": "hotspot_env",
   "language": "python",
   "name": "hotspot_env"
  },
  "language_info": {
   "codemirror_mode": {
    "name": "ipython",
    "version": 3
   },
   "file_extension": ".py",
   "mimetype": "text/x-python",
   "name": "python",
   "nbconvert_exporter": "python",
   "pygments_lexer": "ipython3",
   "version": "3.10.9"
  }
 },
 "nbformat": 4,
 "nbformat_minor": 4
}
